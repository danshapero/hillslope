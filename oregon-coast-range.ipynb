{
 "cells": [
  {
   "cell_type": "markdown",
   "metadata": {},
   "source": [
    "First, we'll download a 1/3-arcsecond DEM of the region we're interested in.\n",
    "The DEM comes from the Oregon Lidar Consortium, which is part of the Oregon Department of Geology and Mineral Industries (DOGAMI).\n",
    "The DOGAMI website has an interactive online [viewer](https://gis.dogami.oregon.gov/maps/lidarviewer/) and download utility for LiDAR data.\n",
    "The code below uses a library called [pooch](https://www.fatiando.org/pooch) to describe what file we want to get and from where."
   ]
  },
  {
   "cell_type": "code",
   "execution_count": null,
   "metadata": {},
   "outputs": [],
   "source": [
    "import pooch\n",
    "\n",
    "url = \"https://www.oregongeology.org/pubs/ldq/\"\n",
    "archive_filename = \"LDQ-43124D1.zip\"\n",
    "checksum = \"cb1fcb26fbb6e84640a554fb2287c619cfe6f54bc81a6423624273ceb21f7647\"\n",
    "dem = pooch.create(\n",
    "    path=pooch.os_cache(\"hillslope\"),\n",
    "    base_url=url,\n",
    "    registry={archive_filename: checksum},\n",
    ")"
   ]
  },
  {
   "cell_type": "markdown",
   "metadata": {},
   "source": [
    "Next we'll actually fetch the raw data, unzip it, and extract a `.adf` file (an ArcInfo binary format) containing the actual DEM."
   ]
  },
  {
   "cell_type": "code",
   "execution_count": null,
   "metadata": {},
   "outputs": [],
   "source": [
    "import requests\n",
    "\n",
    "try:\n",
    "    downloader = pooch.HTTPDownloader(progressbar=True)\n",
    "    files = dem.fetch(\n",
    "        archive_filename,\n",
    "        processor=pooch.Unzip(),\n",
    "        downloader=downloader,\n",
    "    )\n",
    "except requests.exceptions.SSLError:\n",
    "    downloader = pooch.HTTPDownloader(progressbar=True, verify=False)\n",
    "    files = dem.fetch(\n",
    "        archive_filename,\n",
    "        processor=pooch.Unzip(),\n",
    "        downloader=downloader,\n",
    "    )"
   ]
  },
  {
   "cell_type": "code",
   "execution_count": null,
   "metadata": {},
   "outputs": [],
   "source": [
    "filename = [\n",
    "    f for f in files if \"South Coast\" in f and \"Bare_Earth\" in f and \"w001001.adf\" in f\n",
    "][0]\n",
    "\n",
    "print(filename)"
   ]
  },
  {
   "cell_type": "markdown",
   "metadata": {},
   "source": [
    "Now we can open the DEM using the library [rasterio](https://rasterio.readthedocs.io/en/latest/)."
   ]
  },
  {
   "cell_type": "code",
   "execution_count": null,
   "metadata": {},
   "outputs": [],
   "source": [
    "import rasterio\n",
    "\n",
    "dataset = rasterio.open(filename, \"r\")"
   ]
  },
  {
   "cell_type": "markdown",
   "metadata": {},
   "source": [
    "We can query this dataset object for the coordinate reference system (CRS) and a bounding box."
   ]
  },
  {
   "cell_type": "code",
   "execution_count": null,
   "metadata": {},
   "outputs": [],
   "source": [
    "print(dataset.crs)\n",
    "print(dataset.bounds)"
   ]
  },
  {
   "cell_type": "markdown",
   "metadata": {},
   "source": [
    "The data aren't reported in a simple obvious CRS like a latitude-longitude, but rather a specialized CRS with code EPSG:3644.\n",
    "**Note that the data use measurements in feet, not in meters.**\n",
    "I used [pyproj](https://pyproj4.github.io/pyproj) to roughly figure out a bounding box from the lat-lon coordinates given in Roering's 2008 paper of 43.464${}^\\circ$N, 124.119${}^\\circ$W and by eyeballing roughly the limits of the domain from figure 5 in the paper.\n",
    "Rather than read in the whole DEM tile, which contains much more area than we care about, we'll do a windowed read of just this small patch."
   ]
  },
  {
   "cell_type": "code",
   "execution_count": null,
   "metadata": {},
   "outputs": [],
   "source": [
    "bbox = {\n",
    "    \"left\": 349750.0,\n",
    "    \"right\": 353350.0,\n",
    "    \"bottom\": 644360.0,\n",
    "    \"top\": 647550.0,\n",
    "}\n",
    "\n",
    "window = rasterio.windows.from_bounds(\n",
    "    **bbox, transform=dataset.transform, width=dataset.width, height=dataset.height\n",
    ")\n",
    "\n",
    "elevation = dataset.read(indexes=1, window=window)[::-1, :]\n",
    "transform = dataset.window_transform(window)"
   ]
  },
  {
   "cell_type": "markdown",
   "metadata": {},
   "source": [
    "To make sure we did everything correctly, we'll make a 3D plot of the elevation.\n",
    "The slope we're interested in runs down the middle of the figure below."
   ]
  },
  {
   "cell_type": "code",
   "execution_count": null,
   "metadata": {},
   "outputs": [],
   "source": [
    "import numpy as np\n",
    "import matplotlib.pyplot as plt\n",
    "from mpl_toolkits import mplot3d\n",
    "\n",
    "fig = plt.figure(figsize=(8, 6))\n",
    "ax = fig.add_subplot(projection=\"3d\")\n",
    "ax.view_init(15, 100)\n",
    "x = np.linspace(bbox[\"left\"], bbox[\"right\"], elevation.shape[1])\n",
    "y = np.linspace(bbox[\"bottom\"], bbox[\"top\"], elevation.shape[0])\n",
    "ax.set_box_aspect((np.ptp(x), np.ptp(y), np.ptp(elevation)))\n",
    "X, Y = np.meshgrid(x, y)\n",
    "ax.plot_surface(X, Y, elevation, linewidth=0, antialiased=False)"
   ]
  },
  {
   "cell_type": "markdown",
   "metadata": {},
   "source": [
    "Next we'll use the [pysheds](https://mattbartos.com/pysheds/) package to calculate the catchment area throughout the domain.\n",
    "The original results that we aim to reproduce here exclude any parts of the domain where the catchment area exceeds 250 m${}^2$, i.e. to capture the hillslopes and exclude valleys where fluvial transport dominates."
   ]
  },
  {
   "cell_type": "code",
   "execution_count": null,
   "metadata": {},
   "outputs": [],
   "source": [
    "import pysheds, pysheds.grid\n",
    "import pyproj\n",
    "\n",
    "crs = pyproj.Proj(\"epsg:3644\")\n",
    "grid = pysheds.grid.Grid(affine=transform, shape=elevation.shape, crs=crs)"
   ]
  },
  {
   "cell_type": "markdown",
   "metadata": {},
   "source": [
    "The steps here are to (1) add the elevation data, (2) fill depressions that won't drain out of the domain, (3) remove flat parts of the DEM where a flow direction can't meaningfully be defined, and finally (4) calculate flow directions using the D${}^\\infty$ routing algorithm from [Tarboton 1997](https://doi.org/10.1029/96WR03137)."
   ]
  },
  {
   "cell_type": "code",
   "execution_count": null,
   "metadata": {},
   "outputs": [],
   "source": [
    "grid.add_gridded_data(elevation, \"elevation\", affine=transform, crs=crs)\n",
    "grid.fill_depressions(data=\"elevation\", out_name=\"flooded_elevation\")\n",
    "grid.resolve_flats(data=\"flooded_elevation\", out_name=\"inflated_elevation\")\n",
    "grid.flowdir(data=\"inflated_elevation\", out_name=\"flow_dir\", routing=\"dinf\")"
   ]
  },
  {
   "cell_type": "markdown",
   "metadata": {},
   "source": [
    "Now that we've calculated the flow directions, we can calculate the accumulation or catchment areas."
   ]
  },
  {
   "cell_type": "code",
   "execution_count": null,
   "metadata": {},
   "outputs": [],
   "source": [
    "areas = grid.cell_area(as_crs=crs, inplace=False)\n",
    "weights = (areas / areas.max()).ravel()\n",
    "grid.accumulation(\n",
    "    data=\"flow_dir\", routing=\"dinf\", weights=weights, out_name=\"accumulation\"\n",
    ")"
   ]
  },
  {
   "cell_type": "markdown",
   "metadata": {},
   "source": [
    "The plot below shows the catchment area.\n",
    "The dark blue areas are rivers and valleys, the bright yellow are ridge tops."
   ]
  },
  {
   "cell_type": "code",
   "execution_count": null,
   "metadata": {},
   "outputs": [],
   "source": [
    "from matplotlib.colors import LogNorm\n",
    "\n",
    "fig, axes = plt.subplots(figsize=(8, 8))\n",
    "norm = LogNorm(vmin=1, vmax=grid.accumulation.max() + 1)\n",
    "image = axes.imshow(grid.accumulation + 1, extent=extent, cmap=\"viridis_r\", norm=norm)\n",
    "fig.colorbar(image)"
   ]
  },
  {
   "cell_type": "markdown",
   "metadata": {},
   "source": [
    "This plot shows the elevation with the rivers and valleys masked out."
   ]
  },
  {
   "cell_type": "code",
   "execution_count": null,
   "metadata": {},
   "outputs": [],
   "source": [
    "import numpy.ma as ma\n",
    "\n",
    "maxval = 300.0\n",
    "mask = grid.accumulation > maxval\n",
    "z = ma.masked_array(grid.elevation, mask=mask)\n",
    "norm = LogNorm(vmin=1, vmax=maxval + 1)\n",
    "fig, axes = plt.subplots(figsize=(8, 8))\n",
    "image = axes.imshow(z + 1, extent=extent)\n",
    "fig.colorbar(image)"
   ]
  }
 ],
 "metadata": {
  "kernelspec": {
   "display_name": "firedrake",
   "language": "python",
   "name": "firedrake"
  },
  "language_info": {
   "codemirror_mode": {
    "name": "ipython",
    "version": 3
   },
   "file_extension": ".py",
   "mimetype": "text/x-python",
   "name": "python",
   "nbconvert_exporter": "python",
   "pygments_lexer": "ipython3",
   "version": "3.7.4"
  }
 },
 "nbformat": 4,
 "nbformat_minor": 4
}
