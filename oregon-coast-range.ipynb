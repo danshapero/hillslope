{
 "cells": [
  {
   "cell_type": "markdown",
   "metadata": {},
   "source": [
    "First, we'll download a 1/3-arcsecond DEM of the region we're interested in.\n",
    "The DEM comes from the Oregon Lidar Consortium, which is part of the Oregon Department of Geology and Mineral Industries (DOGAMI).\n",
    "The DOGAMI website has an interactive online [viewer](https://gis.dogami.oregon.gov/maps/lidarviewer/) and download utility for LiDAR data.\n",
    "The code below uses a library called [pooch](https://www.fatiando.org/pooch) to describe what file we want to get and from where."
   ]
  },
  {
   "cell_type": "code",
   "execution_count": null,
   "metadata": {},
   "outputs": [],
   "source": [
    "import pooch\n",
    "\n",
    "url = \"https://www.oregongeology.org/pubs/ldq/\"\n",
    "archive_filename = \"LDQ-43124D1.zip\"\n",
    "checksum = \"cb1fcb26fbb6e84640a554fb2287c619cfe6f54bc81a6423624273ceb21f7647\"\n",
    "dem = pooch.create(\n",
    "    path=pooch.os_cache(\"hillslope\"),\n",
    "    base_url=url,\n",
    "    registry={archive_filename: checksum},\n",
    ")"
   ]
  },
  {
   "cell_type": "markdown",
   "metadata": {},
   "source": [
    "Next we'll actually fetch the raw data, unzip it, and extract a `.adf` file (an ArcInfo binary format) containing the actual DEM."
   ]
  },
  {
   "cell_type": "code",
   "execution_count": null,
   "metadata": {},
   "outputs": [],
   "source": [
    "import requests\n",
    "\n",
    "try:\n",
    "    downloader = pooch.HTTPDownloader(progressbar=True)\n",
    "    files = dem.fetch(\n",
    "        archive_filename,\n",
    "        processor=pooch.Unzip(),\n",
    "        downloader=downloader,\n",
    "    )\n",
    "except requests.exceptions.SSLError:\n",
    "    downloader = pooch.HTTPDownloader(progressbar=True, verify=False)\n",
    "    files = dem.fetch(\n",
    "        archive_filename,\n",
    "        processor=pooch.Unzip(),\n",
    "        downloader=downloader,\n",
    "    )"
   ]
  },
  {
   "cell_type": "code",
   "execution_count": null,
   "metadata": {},
   "outputs": [],
   "source": [
    "filename = [\n",
    "    f for f in files if \"South Coast\" in f and \"Bare_Earth\" in f and \"w001001.adf\" in f\n",
    "][0]\n",
    "\n",
    "print(filename)"
   ]
  },
  {
   "cell_type": "markdown",
   "metadata": {},
   "source": [
    "Now we can open the DEM using the library [rasterio](https://rasterio.readthedocs.io/en/latest/).\n",
    "The original data use the EPSG:3644 coordinate system which is specialized to Oregon.\n",
    "This CRS measures distance in feet, which is truly offensive, so we'll reproject to UTM zone 10 (EPSG:32610) immediately."
   ]
  },
  {
   "cell_type": "code",
   "execution_count": null,
   "metadata": {},
   "outputs": [],
   "source": [
    "import numpy as np\n",
    "import numpy.ma as ma\n",
    "import rasterio\n",
    "import rasterio.warp\n",
    "\n",
    "with rasterio.open(filename, \"r\") as source:\n",
    "    elevation, transform = rasterio.warp.reproject(\n",
    "        source=source.read(indexes=1),\n",
    "        src_transform=source.transform,\n",
    "        src_crs=\"EPSG:3644\",\n",
    "        dst_crs=\"EPSG:32610\",\n",
    "        resampling=rasterio.enums.Resampling.bilinear,\n",
    "    )\n",
    "\n",
    "    bounds = source.bounds\n",
    "    feet_to_meters = 0.3048\n",
    "    elevation = feet_to_meters * ma.masked_less_equal(elevation[0, :, :], 0.0)"
   ]
  },
  {
   "cell_type": "code",
   "execution_count": null,
   "metadata": {},
   "outputs": [],
   "source": [
    "import matplotlib.pyplot as plt\n",
    "\n",
    "extent = rasterio.warp.transform_bounds(\n",
    "    src_crs=\"EPSG:3644\",\n",
    "    dst_crs=\"EPSG:32610\",\n",
    "    left=bounds.left,\n",
    "    right=bounds.right,\n",
    "    bottom=bounds.bottom,\n",
    "    top=bounds.top,\n",
    ")\n",
    "\n",
    "fig, axes = plt.subplots()\n",
    "axes.set_aspect(\"equal\")\n",
    "image = axes.imshow(elevation, extent=extent)\n",
    "fig.colorbar(image)"
   ]
  },
  {
   "cell_type": "markdown",
   "metadata": {},
   "source": [
    "We only care about a small part of this domain, so next we'll pull out just the tile that we need.\n",
    "I used [pyproj](https://pyproj4.github.io/pyproj) to roughly figure out a bounding box for the tile from the lat-lon coordinates given in the paper of 43.464${}^\\circ$N, 124.119${}^\\circ$W.\n",
    "Then I eyeballed the limits of the domain from figure 5 in the paper.\n",
    "We can then get the row and column indices in the DEM of the upper left and lower right corners to extract just the part of the data that we actually want to work with."
   ]
  },
  {
   "cell_type": "code",
   "execution_count": null,
   "metadata": {},
   "outputs": [],
   "source": [
    "(left, right), (top, bottom) = rasterio.warp.transform(\n",
    "    src_crs=\"EPSG:3644\",\n",
    "    dst_crs=\"EPSG:32610\",\n",
    "    xs=[349750.0, 353350.0],\n",
    "    ys=[647550.0, 644360.0],\n",
    ")\n",
    "\n",
    "rows, cols = rasterio.transform.rowcol(transform, (left, right), (top, bottom))\n",
    "elevation = elevation[rows[0] : rows[1], cols[0] : cols[1]].astype(np.float64)"
   ]
  },
  {
   "cell_type": "markdown",
   "metadata": {},
   "source": [
    "The slope that Roering 2008 used is the lobe that runs down the middle of the figure below, the ridge of which extends roughly along x = 409,400 m."
   ]
  },
  {
   "cell_type": "code",
   "execution_count": null,
   "metadata": {},
   "outputs": [],
   "source": [
    "fig, axes = plt.subplots()\n",
    "image = axes.imshow(elevation, extent=(left, right, bottom, top))\n",
    "fig.colorbar(image)"
   ]
  },
  {
   "cell_type": "markdown",
   "metadata": {},
   "source": [
    "Next we'll use the [pysheds](https://mattbartos.com/pysheds/) package to calculate the catchment area throughout the domain.\n",
    "The original results that we aim to reproduce here exclude any parts of the domain where the catchment area exceeds 250 m${}^2$, i.e. to capture the hillslopes and exclude valleys where fluvial transport dominates."
   ]
  },
  {
   "cell_type": "code",
   "execution_count": null,
   "metadata": {},
   "outputs": [],
   "source": [
    "import pysheds, pysheds.grid\n",
    "import pyproj\n",
    "\n",
    "crs = pyproj.Proj(\"epsg:32610\")\n",
    "window = rasterio.windows.Window(rows[0], cols[0], rows[1] - rows[0], cols[1] - cols[0])\n",
    "transform = rasterio.windows.transform(window, transform)\n",
    "grid = pysheds.grid.Grid(affine=transform, shape=elevation.shape, crs=crs)"
   ]
  },
  {
   "cell_type": "markdown",
   "metadata": {},
   "source": [
    "The steps here are to (1) add the elevation data, (2) fill depressions that won't drain out of the domain, (3) remove flat parts of the DEM where a flow direction can't meaningfully be defined, and finally (4) calculate flow directions using the D${}^\\infty$ routing algorithm from [Tarboton 1997](https://doi.org/10.1029/96WR03137)."
   ]
  },
  {
   "cell_type": "code",
   "execution_count": null,
   "metadata": {},
   "outputs": [],
   "source": [
    "grid.add_gridded_data(elevation, \"elevation\", affine=transform, crs=crs)\n",
    "grid.fill_depressions(data=\"elevation\", out_name=\"flooded_elevation\")\n",
    "grid.resolve_flats(data=\"flooded_elevation\", out_name=\"inflated_elevation\")\n",
    "grid.flowdir(data=\"inflated_elevation\", out_name=\"flow_dir\", routing=\"dinf\")"
   ]
  },
  {
   "cell_type": "markdown",
   "metadata": {},
   "source": [
    "Now that we've calculated the flow directions, we can calculate the accumulation or catchment areas."
   ]
  },
  {
   "cell_type": "code",
   "execution_count": null,
   "metadata": {},
   "outputs": [],
   "source": [
    "areas = grid.cell_area(as_crs=crs, inplace=False)\n",
    "weights = (areas / areas.max()).ravel()\n",
    "grid.accumulation(\n",
    "    data=\"flow_dir\", routing=\"dinf\", weights=weights, out_name=\"accumulation\"\n",
    ")"
   ]
  },
  {
   "cell_type": "markdown",
   "metadata": {},
   "source": [
    "The plot below shows the catchment area.\n",
    "The dark blue areas are rivers and valleys, the bright yellow are ridge tops."
   ]
  },
  {
   "cell_type": "code",
   "execution_count": null,
   "metadata": {},
   "outputs": [],
   "source": [
    "from matplotlib.colors import LogNorm\n",
    "\n",
    "fig, axes = plt.subplots(figsize=(8, 8))\n",
    "norm = LogNorm(vmin=1, vmax=grid.accumulation.max() + 1)\n",
    "image = axes.imshow(grid.accumulation + 1, extent=extent, cmap=\"viridis_r\", norm=norm)\n",
    "fig.colorbar(image)"
   ]
  },
  {
   "cell_type": "markdown",
   "metadata": {},
   "source": [
    "This plot shows the elevation with the rivers and valleys masked out."
   ]
  },
  {
   "cell_type": "code",
   "execution_count": null,
   "metadata": {},
   "outputs": [],
   "source": [
    "maxval = 250.0\n",
    "mask = grid.accumulation > maxval\n",
    "elevation_masked = ma.masked_array(grid.elevation, mask=mask)\n",
    "norm = LogNorm(vmin=1, vmax=maxval + 1)\n",
    "fig, axes = plt.subplots(figsize=(8, 8))\n",
    "image = axes.imshow(elevation_masked + 1, extent=extent)\n",
    "fig.colorbar(image)"
   ]
  },
  {
   "cell_type": "markdown",
   "metadata": {},
   "source": [
    "Next, we'll save the reprojected and windowed DEM and catchment areas to GeoTIFF files so that we can look at them in a GIS later."
   ]
  },
  {
   "cell_type": "code",
   "execution_count": null,
   "metadata": {},
   "outputs": [],
   "source": [
    "profile = {\n",
    "    \"driver\": \"GTiff\",\n",
    "    \"count\": 1,\n",
    "    \"height\": elevation.shape[0],\n",
    "    \"width\": elevation.shape[1],\n",
    "    \"crs\": \"EPSG:32610\",\n",
    "    \"transform\": transform,\n",
    "    \"dtype\": np.float64,\n",
    "}\n",
    "\n",
    "with rasterio.open(\"elevation.tif\", \"w\", **profile) as destination:\n",
    "    destination.write(elevation, indexes=1)\n",
    "\n",
    "with rasterio.open(\"catchment.tif\", \"w\", **profile) as destination:\n",
    "    destination.write(grid.accumulation, indexes=1)"
   ]
  },
  {
   "cell_type": "markdown",
   "metadata": {},
   "source": [
    "Outside of the workflow in this notebook, I opened the catchment and DEM data sets in a GIS, manually traced the outline of a region that looks close enough to the domain in the paper, and saved that outline to a GeoJSON file."
   ]
  },
  {
   "cell_type": "code",
   "execution_count": null,
   "metadata": {},
   "outputs": [],
   "source": [
    "import geojson\n",
    "\n",
    "with open(\"oregon-coast-range.geojson\", \"r\") as outline_file:\n",
    "    outline = geojson.load(outline_file)"
   ]
  },
  {
   "cell_type": "markdown",
   "metadata": {},
   "source": [
    "The [icepack](https://icepack.github.io) package contains a utility routine called `collection_to_geo` that we'll use to convert the outline of the domain, stored as a GeoJSON feature collection, into the input format for [gmsh](https://gmsh.info), a program that generates unstructured triangular meshes.\n",
    "The keyword argument `lcar` indicates the characteristic length scale for the mesh, which we've set to 5m.\n",
    "You can tweak this value to get a finer or coarser mesh."
   ]
  },
  {
   "cell_type": "code",
   "execution_count": null,
   "metadata": {},
   "outputs": [],
   "source": [
    "import icepack\n",
    "\n",
    "geometry = icepack.meshing.collection_to_geo(outline, lcar=5.0)\n",
    "with open(\"oregon-coast-range.geo\", \"w\") as geometry_file:\n",
    "    geometry_file.write(geometry.get_code())"
   ]
  },
  {
   "cell_type": "markdown",
   "metadata": {},
   "source": [
    "The .geo file that we've just created only describes the outline of the domain; to get a triangular mesh, we'll call gmsh from the command line."
   ]
  },
  {
   "cell_type": "code",
   "execution_count": null,
   "metadata": {},
   "outputs": [],
   "source": [
    "!gmsh -2 -format msh2 -v 2 -o oregon-coast-range.msh oregon-coast-range.geo"
   ]
  },
  {
   "cell_type": "markdown",
   "metadata": {},
   "source": [
    "All the modeling in the following uses the [Firedrake](https://www.firedrakeproject.org) package.\n",
    "Firedrake includes readers for meshes in several different formats, included that of gmsh."
   ]
  },
  {
   "cell_type": "code",
   "execution_count": null,
   "metadata": {},
   "outputs": [],
   "source": [
    "import firedrake\n",
    "\n",
    "mesh = firedrake.Mesh(\"oregon-coast-range.msh\")"
   ]
  },
  {
   "cell_type": "markdown",
   "metadata": {},
   "source": [
    "The colors indicate the different boundary segments (see the legend)."
   ]
  },
  {
   "cell_type": "code",
   "execution_count": null,
   "metadata": {},
   "outputs": [],
   "source": [
    "fig, axes = plt.subplots()\n",
    "axes.set_aspect(\"equal\")\n",
    "firedrake.triplot(mesh, axes=axes)\n",
    "axes.legend();"
   ]
  },
  {
   "cell_type": "markdown",
   "metadata": {},
   "source": [
    "Before we start doing any modeling, we'll need to interpolate the gridded data that we read in above to some function space defined over this triangular mesh.\n",
    "Here we're using the space of piecewise polynomials of degree 2 that are continuous across triangle boundaries; the `\"CG\"` stands for \"Continuous Galerkin\"."
   ]
  },
  {
   "cell_type": "code",
   "execution_count": null,
   "metadata": {},
   "outputs": [],
   "source": [
    "Q = firedrake.FunctionSpace(mesh, \"CG\", 2)"
   ]
  },
  {
   "cell_type": "markdown",
   "metadata": {},
   "source": [
    "Firedrake doesn't know about raster data natively, so we'll use a utility function from icepack to interpolate the DEM to this function space."
   ]
  },
  {
   "cell_type": "code",
   "execution_count": null,
   "metadata": {},
   "outputs": [],
   "source": [
    "with rasterio.open(\"elevation.tif\", \"r\") as dem_file:\n",
    "    z = icepack.interpolate(dem_file, Q)"
   ]
  },
  {
   "cell_type": "code",
   "execution_count": null,
   "metadata": {},
   "outputs": [],
   "source": [
    "fig, axes = plt.subplots()\n",
    "colors = firedrake.tripcolor(z, axes=axes)\n",
    "fig.colorbar(colors);"
   ]
  }
 ],
 "metadata": {
  "kernelspec": {
   "display_name": "firedrake",
   "language": "python",
   "name": "firedrake"
  },
  "language_info": {
   "codemirror_mode": {
    "name": "ipython",
    "version": 3
   },
   "file_extension": ".py",
   "mimetype": "text/x-python",
   "name": "python",
   "nbconvert_exporter": "python",
   "pygments_lexer": "ipython3",
   "version": "3.7.4"
  }
 },
 "nbformat": 4,
 "nbformat_minor": 4
}
