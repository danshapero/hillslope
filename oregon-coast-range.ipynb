{
 "cells": [
  {
   "cell_type": "markdown",
   "metadata": {},
   "source": [
    "First, we'll download a 1/3-arcsecond DEM of the region we're interested in.\n",
    "The DEM comes from the Oregon Lidar Consortium, which is part of the Oregon Department of Geology and Mineral Industries (DOGAMI).\n",
    "The DOGAMI website has a nice interactive, online [viewer](https://gis.dogami.oregon.gov/maps/lidarviewer/) and download utility for LiDAR data.\n",
    "The code below uses a library called [pooch](https://www.fatiando.org/pooch) to describe what file we want to get and from where."
   ]
  },
  {
   "cell_type": "code",
   "execution_count": null,
   "metadata": {},
   "outputs": [],
   "source": [
    "import pooch\n",
    "url = 'https://www.oregongeology.org/pubs/ldq/'\n",
    "archive_filename = 'LDQ-43124D1.zip'\n",
    "checksum = 'cb1fcb26fbb6e84640a554fb2287c619cfe6f54bc81a6423624273ceb21f7647'\n",
    "dem = pooch.create(\n",
    "    path=pooch.os_cache('hillslope'),\n",
    "    base_url=url,\n",
    "    registry={archive_filename: checksum}\n",
    ")"
   ]
  },
  {
   "cell_type": "markdown",
   "metadata": {},
   "source": [
    "Next we'll actually fetch the raw data, unzip it, and extract a `.adf` file (an ArcInfo binary format) containing the actual DEM."
   ]
  },
  {
   "cell_type": "code",
   "execution_count": null,
   "metadata": {},
   "outputs": [],
   "source": [
    "import requests\n",
    "try:\n",
    "    downloader = pooch.HTTPDownloader(progressbar=True)\n",
    "    files = dem.fetch(\n",
    "        archive_filename,\n",
    "        processor=pooch.Unzip(),\n",
    "        downloader=downloader,\n",
    "    )\n",
    "except requests.exceptions.SSLError:\n",
    "    downloader = pooch.HTTPDownloader(progressbar=True, verify=False)\n",
    "    files = dem.fetch(\n",
    "        archive_filename,\n",
    "        processor=pooch.Unzip(),\n",
    "        downloader=downloader,\n",
    "    )"
   ]
  },
  {
   "cell_type": "code",
   "execution_count": null,
   "metadata": {},
   "outputs": [],
   "source": [
    "filename = [\n",
    "    f for f in files if\n",
    "    'South Coast' in f and\n",
    "    'Bare_Earth' in f and\n",
    "    'w001001.adf' in f\n",
    "][0]\n",
    "\n",
    "print(filename)"
   ]
  },
  {
   "cell_type": "markdown",
   "metadata": {},
   "source": [
    "Now we can open the DEM using the library [rasterio](https://rasterio.readthedocs.io/en/latest/) to open the data."
   ]
  },
  {
   "cell_type": "code",
   "execution_count": null,
   "metadata": {},
   "outputs": [],
   "source": [
    "import rasterio\n",
    "dataset = rasterio.open(filename, 'r')"
   ]
  },
  {
   "cell_type": "markdown",
   "metadata": {},
   "source": [
    "We can query this dataset object for the coordinate reference system (CRS) and a bounding box."
   ]
  },
  {
   "cell_type": "code",
   "execution_count": null,
   "metadata": {},
   "outputs": [],
   "source": [
    "print(dataset.crs)\n",
    "print(dataset.bounds)"
   ]
  },
  {
   "cell_type": "markdown",
   "metadata": {},
   "source": [
    "The data aren't reported in a simple obvious CRS like a latitude-longitude, but rather a specialized CRS with code EPSG:3644.\n",
    "**Note that the data use measurements in feet, not in meters.**\n",
    "I used [pyproj](https://pyproj4.github.io/pyproj) to roughly figure out a bounding box from the lat-lon coordinates given in Roering's 2008 paper of 43.464${}^\\circ$N, 124.119${}^\\circ$W and by eyeballing roughly the limits of the domain from figure 5 in the paper.\n",
    "Next we'll do a windowed read of this small segment of the elevation data."
   ]
  },
  {
   "cell_type": "code",
   "execution_count": null,
   "metadata": {},
   "outputs": [],
   "source": [
    "bbox = {\n",
    "    'left': 349750.0,\n",
    "    'right': 353350.0,\n",
    "    'bottom': 644360.0,\n",
    "    'top': 647550.0\n",
    "}\n",
    "\n",
    "window = rasterio.windows.from_bounds(\n",
    "    **bbox,\n",
    "    transform=dataset.transform,\n",
    "    width=dataset.width,\n",
    "    height=dataset.height\n",
    ")\n",
    "\n",
    "elevation = dataset.read(indexes=1, window=window)[::-1,:]"
   ]
  },
  {
   "cell_type": "markdown",
   "metadata": {},
   "source": [
    "Now just to make sure we did everything correctly we'll make a 3D plot of the elevation."
   ]
  },
  {
   "cell_type": "code",
   "execution_count": null,
   "metadata": {},
   "outputs": [],
   "source": [
    "import numpy as np\n",
    "import matplotlib.pyplot as plt\n",
    "from mpl_toolkits import mplot3d\n",
    "\n",
    "fig = plt.figure()\n",
    "ax = fig.add_subplot(projection='3d')\n",
    "ax.view_init(15, 100)\n",
    "x = np.linspace(bbox['left'], bbox['right'], elevation.shape[1])\n",
    "y = np.linspace(bbox['bottom'], bbox['top'], elevation.shape[0])\n",
    "ax.set_box_aspect((np.ptp(x), np.ptp(y), np.ptp(elevation)))\n",
    "X, Y = np.meshgrid(x, y)\n",
    "surface = ax.plot_surface(X, Y, elevation, linewidth=0, antialiased=False)"
   ]
  }
 ],
 "metadata": {
  "kernelspec": {
   "display_name": "firedrake",
   "language": "python",
   "name": "firedrake"
  },
  "language_info": {
   "codemirror_mode": {
    "name": "ipython",
    "version": 3
   },
   "file_extension": ".py",
   "mimetype": "text/x-python",
   "name": "python",
   "nbconvert_exporter": "python",
   "pygments_lexer": "ipython3",
   "version": "3.7.4"
  }
 },
 "nbformat": 4,
 "nbformat_minor": 4
}
