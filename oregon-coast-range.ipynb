{
 "cells": [
  {
   "cell_type": "code",
   "execution_count": null,
   "metadata": {},
   "outputs": [],
   "source": [
    "import numpy as np\n",
    "import numpy.ma as ma\n",
    "import matplotlib.pyplot as plt\n",
    "from matplotlib.colors import LogNorm\n",
    "import geojson\n",
    "import rasterio\n",
    "import rasterio.warp\n",
    "import pyproj\n",
    "import pooch\n",
    "import requests\n",
    "import pysheds, pysheds.grid, pysheds.view\n",
    "import firedrake\n",
    "from firedrake import assemble, inner, grad, Constant, max_value, dx\n",
    "from firedrake_adjoint import Control, ReducedFunctional\n",
    "import pyadjoint\n",
    "import icepack"
   ]
  },
  {
   "cell_type": "markdown",
   "metadata": {},
   "source": [
    "First, we'll download a 1/3-arcsecond DEM of the region we're interested in.\n",
    "The DEM comes from the Oregon Lidar Consortium, which is part of the Oregon Department of Geology and Mineral Industries (DOGAMI).\n",
    "The DOGAMI website has an interactive online [viewer](https://gis.dogami.oregon.gov/maps/lidarviewer/) and download utility for LiDAR data.\n",
    "The code below uses a library called [pooch](https://www.fatiando.org/pooch) to describe what file we want to get and from where."
   ]
  },
  {
   "cell_type": "code",
   "execution_count": null,
   "metadata": {},
   "outputs": [],
   "source": [
    "url = \"https://www.oregongeology.org/pubs/ldq/\"\n",
    "archive_filename = \"LDQ-43124D1.zip\"\n",
    "checksum = \"cb1fcb26fbb6e84640a554fb2287c619cfe6f54bc81a6423624273ceb21f7647\"\n",
    "dem = pooch.create(\n",
    "    path=pooch.os_cache(\"hillslope\"),\n",
    "    base_url=url,\n",
    "    registry={archive_filename: checksum},\n",
    ")"
   ]
  },
  {
   "cell_type": "markdown",
   "metadata": {},
   "source": [
    "Next we'll actually fetch the raw data, unzip it, and extract a `.adf` file (an ArcInfo binary format) containing the actual DEM."
   ]
  },
  {
   "cell_type": "code",
   "execution_count": null,
   "metadata": {},
   "outputs": [],
   "source": [
    "try:\n",
    "    downloader = pooch.HTTPDownloader(progressbar=True)\n",
    "    files = dem.fetch(\n",
    "        archive_filename,\n",
    "        processor=pooch.Unzip(),\n",
    "        downloader=downloader,\n",
    "    )\n",
    "except requests.exceptions.SSLError:\n",
    "    downloader = pooch.HTTPDownloader(progressbar=True, verify=False)\n",
    "    files = dem.fetch(\n",
    "        archive_filename,\n",
    "        processor=pooch.Unzip(),\n",
    "        downloader=downloader,\n",
    "    )"
   ]
  },
  {
   "cell_type": "code",
   "execution_count": null,
   "metadata": {},
   "outputs": [],
   "source": [
    "filename = [\n",
    "    f for f in files if \"South Coast\" in f and \"Bare_Earth\" in f and \"w001001.adf\" in f\n",
    "][0]\n",
    "\n",
    "print(filename)"
   ]
  },
  {
   "cell_type": "markdown",
   "metadata": {},
   "source": [
    "Now we can open the DEM using the library [rasterio](https://rasterio.readthedocs.io/en/latest/).\n",
    "The original data use the EPSG:3644 coordinate system which is specialized to Oregon.\n",
    "This CRS measures distance in feet, which is truly offensive, so we'll reproject to UTM zone 10 (EPSG:32610) immediately."
   ]
  },
  {
   "cell_type": "code",
   "execution_count": null,
   "metadata": {},
   "outputs": [],
   "source": [
    "with rasterio.open(filename, \"r\") as source:\n",
    "    elevation, transform = rasterio.warp.reproject(\n",
    "        source=source.read(indexes=1),\n",
    "        src_transform=source.transform,\n",
    "        src_crs=\"EPSG:3644\",\n",
    "        dst_crs=\"EPSG:32610\",\n",
    "        resampling=rasterio.enums.Resampling.bilinear,\n",
    "    )\n",
    "\n",
    "    bounds = source.bounds\n",
    "    feet_to_meters = 0.3048\n",
    "    elevation = feet_to_meters * ma.masked_less_equal(elevation[0, :, :], 0.0)"
   ]
  },
  {
   "cell_type": "code",
   "execution_count": null,
   "metadata": {},
   "outputs": [],
   "source": [
    "extent = rasterio.warp.transform_bounds(\n",
    "    src_crs=\"EPSG:3644\",\n",
    "    dst_crs=\"EPSG:32610\",\n",
    "    left=bounds.left,\n",
    "    right=bounds.right,\n",
    "    bottom=bounds.bottom,\n",
    "    top=bounds.top,\n",
    ")\n",
    "\n",
    "fig, axes = plt.subplots()\n",
    "axes.set_aspect(\"equal\")\n",
    "image = axes.imshow(elevation, extent=extent)\n",
    "fig.colorbar(image);"
   ]
  },
  {
   "cell_type": "markdown",
   "metadata": {},
   "source": [
    "We only care about a small part of this domain, so next we'll pull out just the tile that we need.\n",
    "I used [pyproj](https://pyproj4.github.io/pyproj) to roughly figure out a bounding box for the tile from the lat-lon coordinates given in the paper of 43.464${}^\\circ$N, 124.119${}^\\circ$W.\n",
    "Then I eyeballed the limits of the domain from figure 5 in the paper.\n",
    "We can then get the row and column indices in the DEM of the upper left and lower right corners to extract just the part of the data that we actually want to work with."
   ]
  },
  {
   "cell_type": "code",
   "execution_count": null,
   "metadata": {},
   "outputs": [],
   "source": [
    "(left, right), (top, bottom) = rasterio.warp.transform(\n",
    "    src_crs=\"EPSG:3644\",\n",
    "    dst_crs=\"EPSG:32610\",\n",
    "    xs=[349750.0, 353350.0],\n",
    "    ys=[647550.0, 644360.0],\n",
    ")\n",
    "\n",
    "rows, cols = rasterio.transform.rowcol(transform, (left, right), (top, bottom))\n",
    "elevation = elevation[rows[0] : rows[1], cols[0] : cols[1]].astype(np.float64)"
   ]
  },
  {
   "cell_type": "markdown",
   "metadata": {},
   "source": [
    "The slope that Roering 2008 used is the lobe that runs down the middle of the figure below, the ridge of which extends roughly along x = 409,400 m."
   ]
  },
  {
   "cell_type": "code",
   "execution_count": null,
   "metadata": {},
   "outputs": [],
   "source": [
    "fig, axes = plt.subplots()\n",
    "image = axes.imshow(elevation, extent=(left, right, bottom, top))\n",
    "fig.colorbar(image);"
   ]
  },
  {
   "cell_type": "markdown",
   "metadata": {},
   "source": [
    "Next we'll use the [pysheds](https://mattbartos.com/pysheds/) package to calculate the catchment area throughout the domain.\n",
    "The original results that we aim to reproduce here exclude any parts of the domain where the catchment area exceeds 250 m${}^2$, i.e. to capture the hillslopes and exclude valleys where fluvial transport dominates."
   ]
  },
  {
   "cell_type": "code",
   "execution_count": null,
   "metadata": {},
   "outputs": [],
   "source": [
    "crs = pyproj.Proj(\"epsg:32610\")\n",
    "window = rasterio.windows.Window(rows[0], cols[0], rows[1] - rows[0], cols[1] - cols[0])\n",
    "transform = rasterio.windows.transform(window, transform)\n",
    "viewfinder = pysheds.view.ViewFinder(affine=transform, shape=elevation.shape, crs=crs)\n",
    "raster = pysheds.view.Raster(elevation)\n",
    "grid = pysheds.grid.Grid(viewfinder=viewfinder).from_raster(raster)"
   ]
  },
  {
   "cell_type": "markdown",
   "metadata": {},
   "source": [
    "The steps here are to (1) add the elevation data, (2) fill depressions that won't drain out of the domain, (3) remove flat parts of the DEM where a flow direction can't meaningfully be defined, and finally (4) calculate flow directions using the D${}^\\infty$ routing algorithm from [Tarboton 1997](https://doi.org/10.1029/96WR03137)."
   ]
  },
  {
   "cell_type": "code",
   "execution_count": null,
   "metadata": {},
   "outputs": [],
   "source": [
    "flooded_elevation = grid.fill_depressions(raster)\n",
    "inflated_elevation = grid.resolve_flats(flooded_elevation)\n",
    "flow_dir = grid.flowdir(inflated_elevation, routing=\"dinf\")"
   ]
  },
  {
   "cell_type": "markdown",
   "metadata": {},
   "source": [
    "Now that we've calculated the flow directions, we can calculate the accumulation or catchment areas."
   ]
  },
  {
   "cell_type": "code",
   "execution_count": null,
   "metadata": {},
   "outputs": [],
   "source": [
    "accumulation = grid.accumulation(flow_dir, routing=\"dinf\")"
   ]
  },
  {
   "cell_type": "markdown",
   "metadata": {},
   "source": [
    "The plot below shows the catchment area.\n",
    "The dark blue areas are rivers and valleys, the bright yellow are ridge tops."
   ]
  },
  {
   "cell_type": "code",
   "execution_count": null,
   "metadata": {},
   "outputs": [],
   "source": [
    "fig, axes = plt.subplots(figsize=(8, 8))\n",
    "norm = LogNorm(vmin=1, vmax=accumulation.max() + 1)\n",
    "image = axes.imshow(accumulation + 1, extent=extent, cmap=\"viridis_r\", norm=norm)\n",
    "fig.colorbar(image);"
   ]
  },
  {
   "cell_type": "markdown",
   "metadata": {},
   "source": [
    "This plot shows the elevation with the rivers and valleys masked out."
   ]
  },
  {
   "cell_type": "code",
   "execution_count": null,
   "metadata": {},
   "outputs": [],
   "source": [
    "maxval = 250.0\n",
    "mask = accumulation > maxval\n",
    "elevation_masked = ma.masked_array(raster, mask=mask)\n",
    "norm = LogNorm(vmin=1, vmax=maxval + 1)\n",
    "fig, axes = plt.subplots(figsize=(8, 8))\n",
    "image = axes.imshow(elevation_masked + 1, extent=extent)\n",
    "fig.colorbar(image);"
   ]
  },
  {
   "cell_type": "markdown",
   "metadata": {},
   "source": [
    "Next, we'll save the reprojected and windowed DEM and catchment areas to GeoTIFF files so that we can look at them in a GIS later."
   ]
  },
  {
   "cell_type": "code",
   "execution_count": null,
   "metadata": {},
   "outputs": [],
   "source": [
    "profile = {\n",
    "    \"driver\": \"GTiff\",\n",
    "    \"count\": 1,\n",
    "    \"height\": elevation.shape[0],\n",
    "    \"width\": elevation.shape[1],\n",
    "    \"crs\": \"EPSG:32610\",\n",
    "    \"transform\": transform,\n",
    "    \"dtype\": np.float64,\n",
    "}\n",
    "\n",
    "with rasterio.open(\"elevation.tif\", \"w\", **profile) as destination:\n",
    "    destination.write(elevation, indexes=1)\n",
    "\n",
    "with rasterio.open(\"catchment.tif\", \"w\", **profile) as destination:\n",
    "    destination.write(accumulation, indexes=1)"
   ]
  },
  {
   "cell_type": "markdown",
   "metadata": {},
   "source": [
    "Outside of the workflow in this notebook, I opened the catchment and DEM data sets in a GIS, manually traced the outline of a region that looks close enough to the domain in the paper, and saved that outline to a GeoJSON file."
   ]
  },
  {
   "cell_type": "code",
   "execution_count": null,
   "metadata": {},
   "outputs": [],
   "source": [
    "with open(\"oregon-coast-range.geojson\", \"r\") as outline_file:\n",
    "    outline = geojson.load(outline_file)"
   ]
  },
  {
   "cell_type": "markdown",
   "metadata": {},
   "source": [
    "Now we'll reopen the elevation file and read the bounds."
   ]
  },
  {
   "cell_type": "code",
   "execution_count": null,
   "metadata": {},
   "outputs": [],
   "source": [
    "with rasterio.open(\"elevation.tif\", \"r\") as source:\n",
    "    elevation = source.read(indexes=1)\n",
    "    bounds = source.bounds\n",
    "    transform = source.transform\n",
    "    height, width = source.height, source.width\n",
    "\n",
    "with rasterio.open(\"catchment.tif\", \"r\") as source:\n",
    "    catchment = source.read(indexes=1)"
   ]
  },
  {
   "cell_type": "markdown",
   "metadata": {},
   "source": [
    "The [icepack](https://icepack.github.io) package contains a utility routine called `collection_to_geo` that we'll use to convert the outline of the domain, stored as a GeoJSON feature collection, into the input format for [gmsh](https://gmsh.info), a program that generates unstructured triangular meshes.\n",
    "The keyword argument `lcar` indicates the characteristic length scale for the mesh, which we've set to 5m.\n",
    "You can tweak this value to get a finer or coarser mesh."
   ]
  },
  {
   "cell_type": "code",
   "execution_count": null,
   "metadata": {},
   "outputs": [],
   "source": [
    "geometry = icepack.meshing.collection_to_geo(outline, lcar=5.0)\n",
    "with open(\"oregon-coast-range.geo\", \"w\") as geometry_file:\n",
    "    geometry_file.write(geometry.get_code())"
   ]
  },
  {
   "cell_type": "markdown",
   "metadata": {},
   "source": [
    "The .geo file that we've just created only describes the outline of the domain; to get a triangular mesh, we'll call gmsh from the command line."
   ]
  },
  {
   "cell_type": "code",
   "execution_count": null,
   "metadata": {},
   "outputs": [],
   "source": [
    "!gmsh -2 -format msh2 -v 2 -o oregon-coast-range.msh oregon-coast-range.geo"
   ]
  },
  {
   "cell_type": "markdown",
   "metadata": {},
   "source": [
    "All the modeling in the following uses the [Firedrake](https://www.firedrakeproject.org) package.\n",
    "Firedrake includes readers for meshes in several different formats, included that of gmsh."
   ]
  },
  {
   "cell_type": "code",
   "execution_count": null,
   "metadata": {},
   "outputs": [],
   "source": [
    "mesh = firedrake.Mesh(\"oregon-coast-range.msh\")\n",
    "X = mesh.coordinates.dat.data_ro\n",
    "xmin, xmax = X[:, 0].min(), X[:, 0].max()\n",
    "ymin, ymax = X[:, 1].min(), X[:, 1].max()"
   ]
  },
  {
   "cell_type": "markdown",
   "metadata": {},
   "source": [
    "For sanity checking, we'll show the mesh on top of a log-scale plot of the upslope area.\n",
    "The colors in the legend indicate the different boundary segments (see the legend)."
   ]
  },
  {
   "cell_type": "code",
   "execution_count": null,
   "metadata": {},
   "outputs": [],
   "source": [
    "fig = plt.figure(figsize=(8, 8))\n",
    "axes = fig.add_subplot()\n",
    "axes.set_aspect(\"equal\")\n",
    "δ = 50.0\n",
    "axes.set_xlim((xmin - δ, xmax + δ))\n",
    "axes.set_ylim((ymin - δ, ymax + δ))\n",
    "\n",
    "extent = (bounds.left, bounds.right, bounds.bottom, bounds.top)\n",
    "norm = LogNorm(vmin=1, vmax=catchment.max() + 1)\n",
    "image = axes.imshow(catchment + 1, cmap=\"viridis_r\", norm=norm, extent=extent)\n",
    "fig.colorbar(image)\n",
    "\n",
    "firedrake.triplot(mesh, interior_kw={\"linewidth\": 0.1}, axes=axes)\n",
    "axes.legend();"
   ]
  },
  {
   "cell_type": "markdown",
   "metadata": {},
   "source": [
    "Before we start doing any modeling, we'll need to interpolate the gridded data that we read in above to some function space defined over this triangular mesh.\n",
    "Here we're using the space of piecewise polynomials of degree 2 that are continuous across triangle boundaries; the `\"CG\"` stands for \"Continuous Galerkin\"."
   ]
  },
  {
   "cell_type": "code",
   "execution_count": null,
   "metadata": {},
   "outputs": [],
   "source": [
    "mesh.num_vertices()"
   ]
  },
  {
   "cell_type": "code",
   "execution_count": null,
   "metadata": {},
   "outputs": [],
   "source": [
    "Q = firedrake.FunctionSpace(mesh, \"CG\", 2)"
   ]
  },
  {
   "cell_type": "markdown",
   "metadata": {},
   "source": [
    "Firedrake doesn't know about raster data natively, so we'll use a utility function from icepack to interpolate the DEM to this function space."
   ]
  },
  {
   "cell_type": "code",
   "execution_count": null,
   "metadata": {},
   "outputs": [],
   "source": [
    "with rasterio.open(\"elevation.tif\", \"r\") as dem_file:\n",
    "    z = icepack.interpolate(dem_file, Q)"
   ]
  },
  {
   "cell_type": "code",
   "execution_count": null,
   "metadata": {},
   "outputs": [],
   "source": [
    "fig, axes = plt.subplots()\n",
    "colors = firedrake.tripcolor(z, axes=axes)\n",
    "fig.colorbar(colors);"
   ]
  },
  {
   "cell_type": "markdown",
   "metadata": {},
   "source": [
    "Before we get to any modeling, we'll first plot the norm of the surface elevation gradient.\n",
    "We can see that the observational data contains patches where the surface slope is greater than the angle of repose of 1.25.\n",
    "This is likely due to noise or artifacts in the data.\n",
    "Our model isn't well-posed for input slopes with surface slopes that high."
   ]
  },
  {
   "cell_type": "code",
   "execution_count": null,
   "metadata": {},
   "outputs": [],
   "source": [
    "V = firedrake.VectorFunctionSpace(mesh, \"DG\", 1)\n",
    "s = firedrake.project(grad(z), V)"
   ]
  },
  {
   "cell_type": "code",
   "execution_count": null,
   "metadata": {},
   "outputs": [],
   "source": [
    "fig, axes = plt.subplots()\n",
    "colors = firedrake.tripcolor(s, axes=axes)\n",
    "fig.colorbar(colors);"
   ]
  },
  {
   "cell_type": "markdown",
   "metadata": {},
   "source": [
    "To rectify this, we'll instead try to interpolate the data in a way that restricts the slope of the result to be bounded.\n",
    "First, we'll find all the points of the input DEM that are contained in the triangular mesh.\n",
    "We'll use these points to create a point cloud embedded in the mesh."
   ]
  },
  {
   "cell_type": "code",
   "execution_count": null,
   "metadata": {},
   "outputs": [],
   "source": [
    "indices = np.array(\n",
    "    [\n",
    "        (i, j)\n",
    "        for i in range(width)\n",
    "        for j in range(height)\n",
    "        if mesh.locate_cell(transform * (i, j))\n",
    "    ]\n",
    ")\n",
    "\n",
    "xs = np.array([transform * idx for idx in indices])\n",
    "\n",
    "point_set = firedrake.VertexOnlyMesh(\n",
    "    mesh, xs, missing_points_behaviour=\"error\"\n",
    ")"
   ]
  },
  {
   "cell_type": "markdown",
   "metadata": {},
   "source": [
    "Now we can create a function defined on the point cloud having the values of the DEM at those oints."
   ]
  },
  {
   "cell_type": "code",
   "execution_count": null,
   "metadata": {},
   "outputs": [],
   "source": [
    "Δ = firedrake.FunctionSpace(point_set, \"DG\", 0)\n",
    "z_obs = firedrake.Function(Δ)\n",
    "z_obs.dat.data[:] = elevation[indices[:, 1], indices[:, 0]]"
   ]
  },
  {
   "cell_type": "markdown",
   "metadata": {},
   "source": [
    "In order to define a properly normalized objective functional, we'll want to weight the model-data misfit by the number of independent observations and the regularization (or smoothness) by the area of the spatial domain.\n",
    "The metadata included with the LiDAR DEM state that the errors are on the order of 0.09m."
   ]
  },
  {
   "cell_type": "code",
   "execution_count": null,
   "metadata": {},
   "outputs": [],
   "source": [
    "area = Constant(assemble(Constant(1) * dx(mesh)))\n",
    "N = Constant(len(indices))\n",
    "σ = Constant(0.09)"
   ]
  },
  {
   "cell_type": "markdown",
   "metadata": {},
   "source": [
    "Next we can form the model-data misfit functional by interpolating our initial value for the surface elevation to the point cloud and computing the mean square error.\n",
    "Firedrake can differentiate through this interpolation operator.\n",
    "The regularization functional will penalize any values of the surface slope greater than the angle of repose, which we'll denote $\\gamma$.\n",
    "The weighting factor $\\rho$ for the regularization term is a free parameter that we have to determine.\n",
    "With all this in place, setting up the optimization problem is a boilerplate use of the Rapid Optimization Library."
   ]
  },
  {
   "cell_type": "code",
   "execution_count": null,
   "metadata": {},
   "outputs": [],
   "source": [
    "I_z = firedrake.interpolate(z, Δ)\n",
    "misfit = assemble(0.5 / N * ((z_obs - I_z) / σ) ** 2 * dx)\n",
    "\n",
    "γ = Constant(1.2)\n",
    "ρ = Constant(1e3)\n",
    "regularization = assemble(ρ / area * max_value(0.0, inner(grad(z), grad(z)) - γ**2) * dx)\n",
    "\n",
    "J = misfit + regularization\n",
    "reduced_objective = ReducedFunctional(J, Control(z))\n",
    "problem = pyadjoint.MinimizationProblem(reduced_objective)\n",
    "\n",
    "options = {\n",
    "    \"Step\": {\n",
    "        \"Type\": \"Trust Region\",\n",
    "        \"Trust Region\": {\n",
    "            \"Initial Radius\": -1,\n",
    "            \"Subproblem Solver\": \"Truncated CG\",\n",
    "            \"Radius Growing Rate\": 2.5,\n",
    "            \"Step Acceptance Threshold\": 0.05,\n",
    "            \"Radius Shrinking Threshold\": 0.05,\n",
    "            \"Radius Growing Threshold\": 0.9,\n",
    "            \"Radius Shrinking Rate (Negative rho)\": 0.0625,\n",
    "            \"Radius Shrinking Rate (Positive rho)\": 0.25,\n",
    "            \"Sufficient Decrease Parameter\": 1e-4,\n",
    "            \"Safeguard Size\": 1e2,\n",
    "        },\n",
    "    },\n",
    "    \"Status Test\": {\n",
    "        \"Gradient Tolerance\": 1e-5,\n",
    "        \"Step Tolerance\": 5e-4,\n",
    "        \"Iteration Limit\": 100,\n",
    "    },\n",
    "    \"General\": {\n",
    "        \"Print Verbosity\": 0,\n",
    "        \"Secant\": {},\n",
    "    },\n",
    "}\n",
    "\n",
    "solver = pyadjoint.ROLSolver(problem, options, inner_product=\"L2\")"
   ]
  },
  {
   "cell_type": "code",
   "execution_count": null,
   "metadata": {},
   "outputs": [],
   "source": [
    "z_opt = solver.solve()"
   ]
  },
  {
   "cell_type": "code",
   "execution_count": null,
   "metadata": {},
   "outputs": [],
   "source": [
    "s = firedrake.interpolate(grad(z_opt), V)"
   ]
  },
  {
   "cell_type": "code",
   "execution_count": null,
   "metadata": {},
   "outputs": [],
   "source": [
    "fig, axes = plt.subplots()\n",
    "colors = firedrake.tripcolor(s, axes=axes)\n",
    "fig.colorbar(colors);"
   ]
  },
  {
   "cell_type": "code",
   "execution_count": null,
   "metadata": {},
   "outputs": [],
   "source": [
    "I_z = firedrake.interpolate(z_opt, Δ)\n",
    "assemble(0.5 / N * ((z_obs - I_z) / σ) ** 2 * dx)"
   ]
  }
 ],
 "metadata": {
  "kernelspec": {
   "display_name": "firedrake",
   "language": "python",
   "name": "firedrake"
  },
  "language_info": {
   "codemirror_mode": {
    "name": "ipython",
    "version": 3
   },
   "file_extension": ".py",
   "mimetype": "text/x-python",
   "name": "python",
   "nbconvert_exporter": "python",
   "pygments_lexer": "ipython3",
   "version": "3.10.6"
  }
 },
 "nbformat": 4,
 "nbformat_minor": 4
}
