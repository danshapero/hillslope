{
 "cells": [
  {
   "cell_type": "markdown",
   "id": "d49cc712",
   "metadata": {},
   "source": [
    "### Math\n",
    "\n",
    "In the following, we're going to look at a model for the evolution of the thickness $h$ of the layer of water over a landscape of elevation $z$ subject to a rainfall rate $\\dot r$.\n",
    "Let $u$ be the depth-averaged velocity of the water layer, $g$ the acceleration due to gravity, and $k$ the friction coefficient between the water and the land.\n",
    "The physical model that we start from is the Saint-Venant equations:\n",
    "\n",
    "$$\\begin{align}\n",
    "\\frac{\\partial}{\\partial t}h + \\nabla\\cdot hu & = \\dot r \\\\\n",
    "\\frac{\\partial}{\\partial t}hu + \\nabla\\cdot\\left(hu\\otimes u + \\frac{1}{2}gh^2I\\right) & = -gh\\nabla z - k|u|u\n",
    "\\end{align}$$\n",
    "\n",
    "where the first equation represents conservation of mass and the second conservation of momentum.\n",
    "These equations are very difficult to solve when the water layer thickness can go to zero.\n",
    "To simplify things a bit, we'll make the assumption that the *Froude number* is small, in which case most of the terms on the left-hand side of the momentum equation are zero.\n",
    "We're then left with just a balance between gravity and friction:\n",
    "\n",
    "$$k|u|u = -gh\\nabla(z + h).$$\n",
    "\n",
    "By substituting this into the mass transport equation, we're left with a single PDE for the water layer thickness.\n",
    "The PDE is, admittedly, a little rowdy but I think we'll muddle through.\n",
    "Before embarking, we should figure out some reasonable values for all of the inputs and coefficients.\n",
    "The friction coefficient $k$ is dimensionless; [Rousseau et al. (2015)](http://dx.doi.org/10.1061/(ASCE)HE.1943-5584.0001171) use $k = 1 / 32$ in their experiments and we'll follow suit.\n",
    "During a decent downpour, we might have rainfall values on the order of 10 to 50 mm / hour.\n",
    "Just to make the units work out super conveniently we'll take $\\dot r$ to be 36 mm / hour = 0.036 m / 3600 s = 10${}^{-6}$ m / s."
   ]
  },
  {
   "cell_type": "code",
   "execution_count": null,
   "id": "bbfe3424",
   "metadata": {},
   "outputs": [],
   "source": [
    "import numpy as np\n",
    "import matplotlib.pyplot as plt\n",
    "import tqdm\n",
    "import firedrake\n",
    "from firedrake import (\n",
    "    exp,\n",
    "    sqrt,\n",
    "    Constant,\n",
    "    max_value,\n",
    "    inner,\n",
    "    sym,\n",
    "    grad,\n",
    "    div,\n",
    "    dx,\n",
    "    ds,\n",
    "    NonlinearVariationalProblem as Problem,\n",
    "    NonlinearVariationalSolver as Solver,\n",
    ")"
   ]
  },
  {
   "cell_type": "code",
   "execution_count": null,
   "id": "b88f3f40",
   "metadata": {},
   "outputs": [],
   "source": [
    "nx, ny = 64, 64\n",
    "Lx, Ly = 200.0, 200.0\n",
    "mesh = firedrake.RectangleMesh(nx, ny, Lx, Ly, diagonal=\"crossed\")\n",
    "x = firedrake.SpatialCoordinate(mesh)"
   ]
  },
  {
   "cell_type": "code",
   "execution_count": null,
   "id": "ee70770b",
   "metadata": {},
   "outputs": [],
   "source": [
    "Q = firedrake.FunctionSpace(mesh, \"CG\", 1)\n",
    "V = firedrake.VectorFunctionSpace(mesh, \"CG\", 1)"
   ]
  },
  {
   "cell_type": "code",
   "execution_count": null,
   "id": "b696aefe",
   "metadata": {},
   "outputs": [],
   "source": [
    "x_0 = Constant((Lx / 2, Ly / 2))\n",
    "R = Constant(20.0)\n",
    "z_0 = Constant(20.0)\n",
    "expr = z_0 * exp(-inner(x - x_0, x - x_0) / R ** 2)\n",
    "z = firedrake.interpolate(expr, Q)"
   ]
  },
  {
   "cell_type": "code",
   "execution_count": null,
   "id": "199beb94",
   "metadata": {},
   "outputs": [],
   "source": [
    "g = Constant(9.8)\n",
    "k = Constant(1 / 32)\n",
    "r = Constant(1e-6)"
   ]
  },
  {
   "cell_type": "code",
   "execution_count": null,
   "id": "7bc9c016",
   "metadata": {},
   "outputs": [],
   "source": [
    "u = firedrake.Function(V)\n",
    "h = firedrake.Function(Q)"
   ]
  },
  {
   "cell_type": "markdown",
   "id": "569babb3",
   "metadata": {},
   "source": [
    "Every time Daniel says \"minimization principle\" you take a shot of tequila!"
   ]
  },
  {
   "cell_type": "code",
   "execution_count": null,
   "id": "e7bd6fe6",
   "metadata": {},
   "outputs": [],
   "source": [
    "ε = sym(grad(u))\n",
    "μ = firedrake.CellSize(mesh)\n",
    "u_n = u.copy(deepcopy=True)\n",
    "J = (\n",
    "    0.5 * (μ + h) * inner(ε, ε)\n",
    "    #+ k / 3 * inner(u, u) ** (3 / 2)\n",
    "    + k / 2 * sqrt(inner(u_n, u_n)) * inner(u, u)\n",
    "    + g * h * inner(grad(z + h), u)\n",
    ") * dx\n",
    "\n",
    "F = firedrake.derivative(J, u)\n",
    "problem_params = {\"form_compiler_parameters\": {\"quadrature_degree\": 4}}\n",
    "problem_u = Problem(F, u, **problem_params)\n",
    "solver_params = {\n",
    "    \"solver_parameters\": {\n",
    "        #\"snes_type\": \"newtontr\",\n",
    "        \"ksp_type\": \"gmres\",\n",
    "        \"pc_type\": \"jacobi\",\n",
    "        #\"pc_factor_mat_solver_type\": \"mumps\",\n",
    "        \"snes_converged_reason\": None,\n",
    "        \"snes_monitor\": None,\n",
    "        \"snes_view\": None,\n",
    "        \"ksp_converged_reason\": None,\n",
    "        \"ksp_monitor_true_residual\": None,\n",
    "        \"ksp_view\": None,\n",
    "    }\n",
    "}\n",
    "solver_u = Solver(problem_u, **solver_params)\n",
    "solver_u.solve()"
   ]
  },
  {
   "cell_type": "code",
   "execution_count": null,
   "id": "5cc4b4ca",
   "metadata": {},
   "outputs": [],
   "source": [
    "firedrake.norm(u)"
   ]
  },
  {
   "cell_type": "code",
   "execution_count": null,
   "id": "5385cb68",
   "metadata": {},
   "outputs": [],
   "source": [
    "h_n = h.copy(deepcopy=True)\n",
    "η = firedrake.TestFunction(Q)\n",
    "\n",
    "ν = firedrake.FacetNormal(mesh)\n",
    "u_ν = max_value(0, inner(u, ν))\n",
    "\n",
    "δt = firedrake.Constant(1.)\n",
    "F = (\n",
    "    ((h - h_n) * η - δt * (inner(h * u, grad(η)) + r * η)) * dx\n",
    "    + δt ** 2 * div(h * u) * inner(u, grad(η)) * dx\n",
    "    + δt * h * u_ν * η * ds\n",
    "    + δt ** 2 * div(h * u) * u_ν * η * ds\n",
    ")\n",
    "problem_h = Problem(F, h)\n",
    "solver_params = {\n",
    "    \"solver_parameters\": {\n",
    "        \"ksp_type\": \"preonly\",\n",
    "        \"pc_type\": \"lu\",\n",
    "        \"pc_factor_mat_solver_type\": \"mumps\",\n",
    "    }\n",
    "}\n",
    "solver_h = Solver(problem_h, **solver_params)"
   ]
  },
  {
   "cell_type": "code",
   "execution_count": null,
   "id": "bdad9358",
   "metadata": {},
   "outputs": [],
   "source": [
    "#final_time = 60\n",
    "#num_steps = int(final_time / float(δt))\n",
    "num_steps = 1\n",
    "for t in tqdm.trange(num_steps):\n",
    "    solver_h.solve()\n",
    "    h.interpolate(max_value(0, h))\n",
    "    solver_u.solve()"
   ]
  },
  {
   "cell_type": "code",
   "execution_count": null,
   "id": "543c1702",
   "metadata": {},
   "outputs": [],
   "source": [
    "fig, axes = plt.subplots()\n",
    "axes.set_aspect(\"equal\")\n",
    "colors = firedrake.tripcolor(h, axes=axes)\n",
    "fig.colorbar(colors);"
   ]
  },
  {
   "cell_type": "code",
   "execution_count": null,
   "id": "3e958bee",
   "metadata": {},
   "outputs": [],
   "source": [
    "solver_u.solve()"
   ]
  },
  {
   "cell_type": "code",
   "execution_count": null,
   "id": "26b3c1c2",
   "metadata": {},
   "outputs": [],
   "source": [
    "fig, axes = plt.subplots()\n",
    "axes.set_aspect(\"equal\")\n",
    "colors = firedrake.tripcolor(u, axes=axes)\n",
    "fig.colorbar(colors);"
   ]
  }
 ],
 "metadata": {
  "kernelspec": {
   "display_name": "firedrake",
   "language": "python",
   "name": "firedrake"
  },
  "language_info": {
   "codemirror_mode": {
    "name": "ipython",
    "version": 3
   },
   "file_extension": ".py",
   "mimetype": "text/x-python",
   "name": "python",
   "nbconvert_exporter": "python",
   "pygments_lexer": "ipython3",
   "version": "3.9.2"
  }
 },
 "nbformat": 4,
 "nbformat_minor": 5
}
