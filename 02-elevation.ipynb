{
 "cells": [
  {
   "cell_type": "code",
   "execution_count": null,
   "id": "25694fef-b0c6-442a-be67-c61a0d4a85ac",
   "metadata": {},
   "outputs": [],
   "source": [
    "import itertools\n",
    "import numpy as np\n",
    "import matplotlib.pyplot as plt\n",
    "from mpl_toolkits import mplot3d\n",
    "import rasterio\n",
    "import firedrake\n",
    "from firedrake import assemble, Constant, inner, grad, dx\n",
    "import pyadjoint\n",
    "from firedrake_adjoint import Control, ReducedFunctional\n",
    "import icepack"
   ]
  },
  {
   "cell_type": "markdown",
   "id": "1b1dc250-4c49-4653-8e4d-739b51b1e231",
   "metadata": {},
   "source": [
    "In the previous notebook, we created a mesh of the domain."
   ]
  },
  {
   "cell_type": "code",
   "execution_count": null,
   "id": "99a6b22a-f2d6-46de-b112-5d12b8f5e875",
   "metadata": {},
   "outputs": [],
   "source": [
    "mesh = firedrake.Mesh(\"sullivan-creek.msh\")"
   ]
  },
  {
   "cell_type": "markdown",
   "id": "93279726-74d5-4d4a-8aa5-9f6d459cad07",
   "metadata": {},
   "source": [
    "To describe functions like the elevation field on the domain, we need to define the approximation space where they'll live.\n",
    "Here we use piecewise quadratic basis functions in each triangle."
   ]
  },
  {
   "cell_type": "code",
   "execution_count": null,
   "id": "a5e25c3f-daaf-47b9-aeff-5ec7af57b796",
   "metadata": {},
   "outputs": [],
   "source": [
    "Q = firedrake.FunctionSpace(mesh, \"CG\", 2)"
   ]
  },
  {
   "cell_type": "markdown",
   "id": "314f744d-2166-469a-b074-dfbf039dbfd9",
   "metadata": {},
   "source": [
    "We can interpolate the DEM to this function space directly using a routine in icepack."
   ]
  },
  {
   "cell_type": "code",
   "execution_count": null,
   "id": "6f00c120-a0cb-4e78-a985-85118d798206",
   "metadata": {},
   "outputs": [],
   "source": [
    "with rasterio.open(\"elevation.tif\", \"r\") as source:\n",
    "    z = icepack.interpolate(source, Q)"
   ]
  },
  {
   "cell_type": "code",
   "execution_count": null,
   "id": "3c5b7293-75c8-4f1e-bffb-e60be88b920d",
   "metadata": {},
   "outputs": [],
   "source": [
    "fig, axes = plt.subplots(subplot_kw={\"projection\": \"3d\"})\n",
    "axes.view_init(azim=70)\n",
    "firedrake.trisurf(z, axes=axes);"
   ]
  },
  {
   "cell_type": "markdown",
   "id": "1fa25e3b-5f10-4d12-8018-c2e2bd94679c",
   "metadata": {},
   "source": [
    "Our model is only well-posed when the slope of the elevation field is smaller than the critical slope $S_c$, which is usually taken to be about 1.25.\n",
    "If we plot the slope of the elevation field, however, we found several patches where the slope exceeds the critical slope."
   ]
  },
  {
   "cell_type": "code",
   "execution_count": null,
   "id": "c612a871-a75b-4b8b-aef1-243f9426142b",
   "metadata": {},
   "outputs": [],
   "source": [
    "V = firedrake.VectorFunctionSpace(mesh, \"DG\", 1)\n",
    "v = firedrake.project(grad(z), V)"
   ]
  },
  {
   "cell_type": "code",
   "execution_count": null,
   "id": "c968f706-a71f-4bd6-94d6-99db4ad039c2",
   "metadata": {},
   "outputs": [],
   "source": [
    "fig, axes = plt.subplots()\n",
    "axes.set_aspect(\"equal\")\n",
    "colors = firedrake.tripcolor(v, axes=axes)\n",
    "contours = firedrake.tricontourf(v, levels=[0.0, 1.25], extend=\"max\", axes=axes)\n",
    "fig.colorbar(contours);"
   ]
  },
  {
   "cell_type": "markdown",
   "id": "196039a4-b7f6-474f-9256-ba686a497e46",
   "metadata": {},
   "source": [
    "We could reduce the extent of the problem by re-drawing the domain boundary to exclude some of the regions of high slopes, but many of the problem areas are well inside the interior of our desired domain.\n",
    "We can also mitigate this effect by applying a smoothing kernel, either to the input DEM or to the elevation field we interpolate to the unstructured mesh.\n",
    "Applying a smoothing kernel everywhere can distort the elevation field even where nothing is wrong.\n",
    "\n",
    "Instead of smoothing the whole elevation field, we'll treat this as a data assimilation problem.\n",
    "We want to come up with an elevation field on the unstructured mesh that matches the DEM as close as possible overall.\n",
    "We'll add the constraint that the slope can't be greater than the critical slope $S_c$.\n",
    "This constraint is not smooth, so we'll have to do a bit of convex optimization to make things go.\n",
    "\n",
    "First, we'll read in the DEM."
   ]
  },
  {
   "cell_type": "code",
   "execution_count": null,
   "id": "e3967402-25bb-49c0-b315-2d515507fed3",
   "metadata": {},
   "outputs": [],
   "source": [
    "with rasterio.open(\"elevation.tif\", \"r\") as source:\n",
    "    bounds = source.bounds\n",
    "    transform = source.transform\n",
    "    dem = source.read(indexes=1, masked=True)"
   ]
  },
  {
   "cell_type": "markdown",
   "id": "7b5a8e09-7d2e-4e3d-a543-b1eae777adae",
   "metadata": {},
   "source": [
    "Next, we need to find all the grid points of the DEM that lie inside the unstructured mesh.\n",
    "The mesh has a `locate_cell` method that conveniently does this for us.\n",
    "**TODO**: Find the min / max indices in both directions that bound the domain."
   ]
  },
  {
   "cell_type": "code",
   "execution_count": null,
   "id": "6816eeeb-6568-41a4-950a-1b990e7477d2",
   "metadata": {},
   "outputs": [],
   "source": [
    "shape = dem.shape\n",
    "grid = itertools.product(range(shape[0]), range(shape[1]))\n",
    "\n",
    "def inside(index):\n",
    "    return mesh.locate_cell(transform * index) is not None\n",
    "\n",
    "indices = np.array(list(filter(inside, grid)))\n",
    "xs = np.array([transform * (i, j) for i, j in indices])"
   ]
  },
  {
   "cell_type": "markdown",
   "id": "f7c5b456-dbd3-451f-9eac-55f2cc9ab369",
   "metadata": {},
   "source": [
    "We can see by doing a scatter plot of the grid points on top of a small section of the triangular mesh that the DEM has a much higher data density than our finite element model will.\n",
    "With that information in mind, we should expect that the elevation field we compute will not match all the grid points to within statistical noise because we're using far too few degrees of freedom.\n",
    "It's also important to remember that the DEM is likely to capture microtopographical variability from sources like tree throw or even bioturbation that our mathematical model was never designed to simulate directly.\n",
    "Trying to use a discretization at the same scale as the DEM might then be beside the point."
   ]
  },
  {
   "cell_type": "code",
   "execution_count": null,
   "id": "7d409666-a4ac-4744-875f-59d4cff32305",
   "metadata": {},
   "outputs": [],
   "source": [
    "fig, axes = plt.subplots()\n",
    "axes.set_aspect(\"equal\")\n",
    "axes.set_xlim((351.6e3, 351.8e3))\n",
    "axes.set_ylim((647.1e3, 647.3e3))\n",
    "firedrake.triplot(mesh, axes=axes)\n",
    "axes.scatter(xs[:, 0], xs[:, 1], 0.1, marker=\".\");"
   ]
  },
  {
   "cell_type": "markdown",
   "id": "8713ebe3-d591-4871-aaef-372412baa464",
   "metadata": {},
   "source": [
    "A vertex-only mesh represents a point cloud embedded into an unstructured triangular mesh.\n",
    "We can create function spaces on the point cloud just like we can on the original mesh.\n",
    "Here we'll create a function `z_obs` defined on the point cloud and manually pack its values with those of the DEM at the interior grid points."
   ]
  },
  {
   "cell_type": "code",
   "execution_count": null,
   "id": "76f03fd4-c6e7-4814-af04-635a5be683dc",
   "metadata": {},
   "outputs": [],
   "source": [
    "point_cloud = firedrake.VertexOnlyMesh(mesh, xs)\n",
    "Q_obs = firedrake.FunctionSpace(point_cloud, \"DG\", 0)\n",
    "z_obs = firedrake.Function(Q_obs)\n",
    "z_obs.dat.data[:] = dem[indices[:, 1], indices[:, 0]]"
   ]
  },
  {
   "cell_type": "markdown",
   "id": "3dc63e3e-af2e-4a15-b7c8-a38468d2d92f",
   "metadata": {},
   "source": [
    "The key enabling feature here is that (1) we can interpolate the elevation field $z$, which is defined everywhere in the domain of interest, to the point cloud, and (2) that this interpolation is differentiable, so we can use it in an optimization problem."
   ]
  },
  {
   "cell_type": "code",
   "execution_count": null,
   "id": "083a2177-de40-4f32-9715-7c8b9e9064df",
   "metadata": {},
   "outputs": [],
   "source": [
    "Πz = firedrake.interpolate(z, Q_obs)"
   ]
  },
  {
   "cell_type": "markdown",
   "id": "2dcaac8f-20ef-47c2-9738-61ae999c37f3",
   "metadata": {},
   "source": [
    "The metadata included with the DEM states that the LiDAR elevations are accurate to about 0.3 ft, so we'll take that as our measurement standard deviations.\n",
    "The model-data misfit functional is then\n",
    "$$E(z) = \\frac{1}{2N}\\sum_k\\left(\\frac{z(x_k) - z_k^{\\text{obs}}}{\\sigma_k}\\right)^2$$\n",
    "If $z$ were an unbiased estimate for the true elevation field, we'd expect the normalized sum of squared errors to be about equal to 1.\n",
    "We're using a fairly coarse mesh relative to the ground sampling distance, so the sum of squared errors is going to be much larger."
   ]
  },
  {
   "cell_type": "code",
   "execution_count": null,
   "id": "0101f7ba-423b-4883-9de0-de78ee2ced5e",
   "metadata": {},
   "outputs": [],
   "source": [
    "N = Constant(len(indices))\n",
    "σ = Constant(0.3)\n",
    "E = (Πz - z_obs)**2 / (2 * N * σ**2) * dx\n",
    "assemble(E)"
   ]
  },
  {
   "cell_type": "markdown",
   "id": "1c62dcce-dd7e-43d5-b446-c74e7ca0898e",
   "metadata": {},
   "source": [
    "The other constraint we need to add is regularization of high surface slopes.\n",
    "Here we use the functional\n",
    "$$R(z) = \\frac{\\alpha^2}{2|\\Omega|}\\int_\\Omega|\\nabla z|^2dx.$$\n",
    "**TODO**: Use ADMM instead."
   ]
  },
  {
   "cell_type": "code",
   "execution_count": null,
   "id": "d11e0e43-1ce3-4e70-9ee7-e082e4cc953d",
   "metadata": {},
   "outputs": [],
   "source": [
    "α = Constant(100.0)\n",
    "area = Constant(assemble(Constant(1) * dx(mesh)))\n",
    "R = α**2 / (2 * area) * inner(grad(z), grad(z)) * dx\n",
    "assemble(R)"
   ]
  },
  {
   "cell_type": "markdown",
   "id": "9aa85738-3f4f-450b-b388-fe10e244d552",
   "metadata": {},
   "source": [
    "We'll then find the minimizer of the functional\n",
    "$$J(z) = E(z) + R(z)$$\n",
    "in the hopes that the surface slope is smaller.\n",
    "To solve this (convex) optimization problem, we'll use the Rapid Optimization Library (ROL), which has an implementation of the trust region algorithm."
   ]
  },
  {
   "cell_type": "code",
   "execution_count": null,
   "id": "7c95d630-a520-4663-b9b4-39f652cdc2d6",
   "metadata": {},
   "outputs": [],
   "source": [
    "J = ReducedFunctional(assemble(E) + assemble(R), Control(z))"
   ]
  },
  {
   "cell_type": "code",
   "execution_count": null,
   "id": "2fe92376-ed2c-4d01-bb3d-2f3d5fa62b15",
   "metadata": {},
   "outputs": [],
   "source": [
    "problem = pyadjoint.MinimizationProblem(J)\n",
    "params = {\n",
    "    \"Step\": {\n",
    "        \"Type\": \"Trust Region\",\n",
    "        \"Trust Region\": {\n",
    "            \"Initial Radius\": -1,\n",
    "            \"Subproblem Solver\": \"Truncated CG\",\n",
    "            \"Radius Growing Rate\": 2.5,\n",
    "            \"Step Acceptance Threshold\": 0.05,\n",
    "            \"Radius Shrinking Threshold\": 0.05,\n",
    "            \"Radius Growing Threshold\": 0.9,\n",
    "            \"Radius Shrinking Rate (Negative rho)\": 0.0625,\n",
    "            \"Radius Shrinking Rate (Positive rho)\": 0.25,\n",
    "            \"Sufficient Decrease Parameter\": 1e-4,\n",
    "            \"Safeguard Size\": 1e2,\n",
    "        },\n",
    "    },\n",
    "    \"Status Test\": {\n",
    "        \"Gradient Tolerance\": 1e-4,\n",
    "        \"Step Tolerance\": 5e-3,\n",
    "        \"Iteration Limit\": 50,\n",
    "    },\n",
    "    \"General\": {\n",
    "        \"Print Verbosity\": 0,\n",
    "        \"Secant\": {},\n",
    "    },\n",
    "}\n",
    "solver = pyadjoint.optimization.rol_solver.ROLSolver(problem, params)"
   ]
  },
  {
   "cell_type": "code",
   "execution_count": null,
   "id": "7f15b7df-f264-446a-8c99-3d0559208bf9",
   "metadata": {},
   "outputs": [],
   "source": [
    "z_opt = solver.solve()"
   ]
  },
  {
   "cell_type": "code",
   "execution_count": null,
   "id": "0ecfb692-34f2-4fda-94b0-2104c19fa357",
   "metadata": {},
   "outputs": [],
   "source": [
    "fig, axes = plt.subplots(subplot_kw={\"projection\": \"3d\"})\n",
    "axes.view_init(azim=70)\n",
    "firedrake.trisurf(z_opt, axes=axes);"
   ]
  },
  {
   "cell_type": "markdown",
   "id": "cd94eef7-3b70-4192-85a1-556718f71c69",
   "metadata": {},
   "source": [
    "Here we can see that overall the surface slope of the estimated elevation field is much smaller, but we haven't quite reduced the maximum slope below the angle of repose."
   ]
  },
  {
   "cell_type": "code",
   "execution_count": null,
   "id": "8c4c3854-bb8d-42c7-b76b-2504227cc0ae",
   "metadata": {},
   "outputs": [],
   "source": [
    "v = firedrake.project(grad(z_opt), V)\n",
    "fig, axes = plt.subplots()\n",
    "axes.set_aspect(\"equal\")\n",
    "colors = firedrake.tripcolor(v, axes=axes)\n",
    "fig.colorbar(colors);"
   ]
  }
 ],
 "metadata": {
  "kernelspec": {
   "display_name": "firedrake",
   "language": "python",
   "name": "firedrake"
  },
  "language_info": {
   "codemirror_mode": {
    "name": "ipython",
    "version": 3
   },
   "file_extension": ".py",
   "mimetype": "text/x-python",
   "name": "python",
   "nbconvert_exporter": "python",
   "pygments_lexer": "ipython3",
   "version": "3.10.11"
  }
 },
 "nbformat": 4,
 "nbformat_minor": 5
}
